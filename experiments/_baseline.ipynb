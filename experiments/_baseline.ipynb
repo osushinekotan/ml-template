{
 "cells": [
  {
   "cell_type": "code",
   "execution_count": null,
   "metadata": {},
   "outputs": [],
   "source": [
    "import logging\n",
    "import os\n",
    "import warnings\n",
    "from pathlib import Path\n",
    "\n",
    "import hydra\n",
    "import rootutils\n",
    "from hydra.core.hydra_config import HydraConfig\n",
    "from kaggle import KaggleApi\n",
    "\n",
    "rootutils.setup_root(search_from=\"../\", indicator=\".project-root\", pythonpath=True)\n",
    "\n",
    "from src.utils.log_utils import get_consol_handler, get_file_handler"
   ]
  },
  {
   "cell_type": "code",
   "execution_count": null,
   "metadata": {},
   "outputs": [],
   "source": [
    "OVERRIDES: list[str] = os.getenv(\"OVERRIDES\", \"experiment=default\").split(\",\")"
   ]
  },
  {
   "cell_type": "code",
   "execution_count": null,
   "metadata": {},
   "outputs": [],
   "source": [
    "if OVERRIDES is None:\n",
    "    raise ValueError(\"OVERRIDES is not set\")\n",
    "\n",
    "with hydra.initialize(version_base=None, config_path=\"../configs\"):\n",
    "    CFG = hydra.compose(\n",
    "        config_name=\"config.yaml\",\n",
    "        return_hydra_config=True,\n",
    "        overrides=OVERRIDES,\n",
    "    )\n",
    "    # use HydraConfig for notebook to use hydra job\n",
    "    HydraConfig.instance().set_config(CFG)\n",
    "\n",
    "\n",
    "if CFG.debug:\n",
    "    CFG.paths.output_dir = f\"{CFG.paths.output_dir}_debug\"\n",
    "\n",
    "INPUT_DIR = Path(CFG.paths.input_dir)  # input directory (r/w)\n",
    "OUTPUT_DIR = Path(CFG.paths.output_dir)  # experiment output directory (r/w)\n",
    "OUTPUT_DIR.mkdir(parents=True, exist_ok=True)\n",
    "OUTPUT_ROOT_DIR = Path(CFG.paths.data_dir) / \"output\"  # output directory (r/w)\n",
    "COMPETITION_DATA_DIR = INPUT_DIR / CFG.meta.competition_name\n",
    "\n",
    "# clients\n",
    "KAGGLE_CLIENT = KaggleApi()\n",
    "KAGGLE_CLIENT.authenticate()\n",
    "\n",
    "# set logger\n",
    "logger = logging.getLogger()\n",
    "logger.setLevel(logging.INFO)\n",
    "logger.handlers = [\n",
    "    get_file_handler(OUTPUT_DIR / \"notebook.log\"),\n",
    "    get_consol_handler(),\n",
    "]\n",
    "\n",
    "warnings.filterwarnings(\"ignore\")"
   ]
  }
 ],
 "metadata": {
  "kernelspec": {
   "display_name": ".venv",
   "language": "python",
   "name": "python3"
  },
  "language_info": {
   "codemirror_mode": {
    "name": "ipython",
    "version": 3
   },
   "file_extension": ".py",
   "mimetype": "text/x-python",
   "name": "python",
   "nbconvert_exporter": "python",
   "pygments_lexer": "ipython3",
   "version": "3.11.6"
  }
 },
 "nbformat": 4,
 "nbformat_minor": 2
}
