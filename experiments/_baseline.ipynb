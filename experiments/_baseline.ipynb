{
 "cells": [
  {
   "cell_type": "code",
   "execution_count": null,
   "metadata": {},
   "outputs": [],
   "source": [
    "import logging\n",
    "import os\n",
    "import warnings\n",
    "from pathlib import Path\n",
    "\n",
    "import hydra\n",
    "import pandas as pd\n",
    "import rootutils\n",
    "from hydra.core.hydra_config import HydraConfig\n",
    "from kaggle import KaggleApi\n",
    "\n",
    "from kuma_utils.training import CrossValidator\n",
    "\n",
    "rootutils.setup_root(search_from=\"../\", indicator=\".project-root\", pythonpath=True)\n",
    "\n",
    "from src.kaggle.dataset import download_kaggle_competition_dataset\n",
    "from src.utils.log_utils import get_consol_handler, get_file_handler"
   ]
  },
  {
   "cell_type": "code",
   "execution_count": null,
   "metadata": {},
   "outputs": [],
   "source": [
    "OVERRIDES: list[str] = os.getenv(\"OVERRIDES\", \"experiment=default\").split(\",\")"
   ]
  },
  {
   "cell_type": "code",
   "execution_count": null,
   "metadata": {},
   "outputs": [],
   "source": [
    "if OVERRIDES is None:\n",
    "    raise ValueError(\"OVERRIDES is not set\")\n",
    "\n",
    "with hydra.initialize(version_base=None, config_path=\"../configs\"):\n",
    "    CFG = hydra.compose(\n",
    "        config_name=\"config.yaml\",\n",
    "        return_hydra_config=True,\n",
    "        overrides=OVERRIDES,\n",
    "    )\n",
    "    # use HydraConfig for notebook to use hydra job\n",
    "    HydraConfig.instance().set_config(CFG)\n",
    "\n",
    "\n",
    "if CFG.debug:\n",
    "    CFG.paths.output_dir = f\"{CFG.paths.output_dir}_debug\"\n",
    "\n",
    "INPUT_DIR = Path(CFG.paths.input_dir)  # input directory (r/w)\n",
    "OUTPUT_DIR = Path(CFG.paths.output_dir)  # experiment output directory (r/w)\n",
    "OUTPUT_DIR.mkdir(parents=True, exist_ok=True)\n",
    "OUTPUT_ROOT_DIR = Path(CFG.paths.data_dir) / \"output\"  # output directory (r/w)\n",
    "COMPETITION_DATA_DIR = INPUT_DIR / CFG.meta.competition_name\n",
    "\n",
    "# clients\n",
    "KAGGLE_CLIENT = KaggleApi()\n",
    "KAGGLE_CLIENT.authenticate()\n",
    "\n",
    "# set logger\n",
    "logger = logging.getLogger()\n",
    "logger.setLevel(logging.INFO)\n",
    "logger.handlers = [\n",
    "    get_file_handler(OUTPUT_DIR / \"notebook.log\"),\n",
    "    get_consol_handler(),\n",
    "]\n",
    "\n",
    "warnings.filterwarnings(\"ignore\")"
   ]
  },
  {
   "cell_type": "markdown",
   "metadata": {},
   "source": [
    "### Load Data\n"
   ]
  },
  {
   "cell_type": "code",
   "execution_count": null,
   "metadata": {},
   "outputs": [],
   "source": [
    "download_kaggle_competition_dataset(\n",
    "    client=KAGGLE_CLIENT,\n",
    "    competition=CFG.meta.competition_name,\n",
    "    out_dir=Path(CFG.paths.input_dir),\n",
    ")\n",
    "\n",
    "train_df = pd.read_csv(COMPETITION_DATA_DIR / \"train.csv\")\n",
    "sample_submission_df = pd.read_csv(COMPETITION_DATA_DIR / \"sample_submission.csv\")"
   ]
  },
  {
   "cell_type": "markdown",
   "metadata": {},
   "source": [
    "### Feature Engineering (skip)\n"
   ]
  },
  {
   "cell_type": "code",
   "execution_count": null,
   "metadata": {},
   "outputs": [],
   "source": [
    "train_feature_df = train_df[CFG.feature_cols].copy()\n",
    "train_label = train_df[CFG.label_col].copy()\n",
    "\n",
    "logger.info(f\"train_feature_df.shape: {train_feature_df.shape}\")"
   ]
  },
  {
   "cell_type": "markdown",
   "metadata": {},
   "source": [
    "### Train cv\n"
   ]
  },
  {
   "cell_type": "code",
   "execution_count": null,
   "metadata": {},
   "outputs": [],
   "source": [
    "trainer = CrossValidator(model=hydra.utils.instantiate(CFG.estimator.model))"
   ]
  },
  {
   "cell_type": "code",
   "execution_count": null,
   "metadata": {},
   "outputs": [],
   "source": [
    "cat_features = CFG.estimator.get(\"cat_features\")\n",
    "if cat_features:\n",
    "    train_feature_df.loc[:, cat_features] = train_feature_df[cat_features].fillna(\"__NA__\").to_numpy()\n",
    "\n",
    "trainer.train(\n",
    "    data=(train_feature_df, train_label),\n",
    "    params=CFG.estimator.params,\n",
    "    fit_params=CFG.estimator.fit_params,\n",
    "    folds=hydra.utils.instantiate(CFG.cv),\n",
    "    cat_features=cat_features,\n",
    "    logger=Path(OUTPUT_DIR / \"trainer.log\"),\n",
    "    # tune_model=True,\n",
    "    # timeout=60,\n",
    ")\n",
    "\n",
    "trainer.save(path=OUTPUT_DIR / \"trainer.pkl\")\n",
    "logger.info(f\"\\ntrainer: \\n{trainer}\")"
   ]
  },
  {
   "cell_type": "code",
   "execution_count": null,
   "metadata": {},
   "outputs": [],
   "source": [
    "trainer.plot_feature_importance(save_to=OUTPUT_DIR / \"feature_importance.png\")\n",
    "trainer.plot_calibration_curve(\n",
    "    data=(train_feature_df, train_label),\n",
    "    save_to=OUTPUT_DIR / \"calibration_curve.png\",\n",
    ")"
   ]
  },
  {
   "cell_type": "code",
   "execution_count": null,
   "metadata": {},
   "outputs": [],
   "source": []
  }
 ],
 "metadata": {
  "kernelspec": {
   "display_name": ".venv",
   "language": "python",
   "name": "python3"
  },
  "language_info": {
   "codemirror_mode": {
    "name": "ipython",
    "version": 3
   },
   "file_extension": ".py",
   "mimetype": "text/x-python",
   "name": "python",
   "nbconvert_exporter": "python",
   "pygments_lexer": "ipython3",
   "version": "3.11.6"
  }
 },
 "nbformat": 4,
 "nbformat_minor": 2
}
